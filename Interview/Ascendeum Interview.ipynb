{
 "cells": [
  {
   "cell_type": "code",
   "execution_count": 15,
   "id": "641cec70",
   "metadata": {},
   "outputs": [],
   "source": [
    "#Spiral matrix - Clockwise rotation\n",
    "def spiralmatrix(n):\n",
    "    matrix=[[0]*n for _ in range(n)]\n",
    "    num=1\n",
    "    top,bottom=0,n-1\n",
    "    left,right=0,n-1\n",
    "    \n",
    "    while(top<=bottom and left<=right):\n",
    "        #Left to Right\n",
    "        for i in range(left,right+1):\n",
    "            matrix[top][i]=num\n",
    "            num+=1\n",
    "        top+=1\n",
    "        #Top to Bottom\n",
    "        for i in range(top,bottom+1):\n",
    "            matrix[i][right]=num\n",
    "            num+=1\n",
    "        right-=1\n",
    "        #Right to Left\n",
    "        for i in range(right,left-1,-1):\n",
    "            matrix[bottom][i]=num\n",
    "            num+=1\n",
    "        bottom-=1\n",
    "        #Bottom to Top\n",
    "        for i in range(bottom,top-1,-1):\n",
    "            matrix[i][left]=num\n",
    "            num+=1\n",
    "        left+=1\n",
    "    \n",
    "    return matrix"
   ]
  },
  {
   "cell_type": "code",
   "execution_count": 17,
   "id": "a1be881e",
   "metadata": {},
   "outputs": [
    {
     "name": "stdout",
     "output_type": "stream",
     "text": [
      "[1, 2, 3, 4, 5, 6, 7]\n",
      "[24, 25, 26, 27, 28, 29, 8]\n",
      "[23, 40, 41, 42, 43, 30, 9]\n",
      "[22, 39, 48, 49, 44, 31, 10]\n",
      "[21, 38, 47, 46, 45, 32, 11]\n",
      "[20, 37, 36, 35, 34, 33, 12]\n",
      "[19, 18, 17, 16, 15, 14, 13]\n"
     ]
    }
   ],
   "source": [
    "#Matrix Output\n",
    "result=spiralmatrix(7)\n",
    "for row in result:\n",
    "    print(row)"
   ]
  },
  {
   "cell_type": "code",
   "execution_count": 18,
   "id": "57d1d9e6",
   "metadata": {},
   "outputs": [
    {
     "data": {
      "text/plain": [
       "[[1, 2, 3, 4, 5],\n",
       " [16, 17, 18, 19, 6],\n",
       " [15, 24, 25, 20, 7],\n",
       " [14, 23, 22, 21, 8],\n",
       " [13, 12, 11, 10, 9]]"
      ]
     },
     "execution_count": 18,
     "metadata": {},
     "output_type": "execute_result"
    }
   ],
   "source": [
    "#2D List\n",
    "list(spiralmatrix(5))"
   ]
  },
  {
   "cell_type": "code",
   "execution_count": null,
   "id": "4b2bc4ae",
   "metadata": {},
   "outputs": [],
   "source": []
  }
 ],
 "metadata": {
  "kernelspec": {
   "display_name": "Python 3 (ipykernel)",
   "language": "python",
   "name": "python3"
  },
  "language_info": {
   "codemirror_mode": {
    "name": "ipython",
    "version": 3
   },
   "file_extension": ".py",
   "mimetype": "text/x-python",
   "name": "python",
   "nbconvert_exporter": "python",
   "pygments_lexer": "ipython3",
   "version": "3.9.12"
  }
 },
 "nbformat": 4,
 "nbformat_minor": 5
}
